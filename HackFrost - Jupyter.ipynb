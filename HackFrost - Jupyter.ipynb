{
 "cells": [
  {
   "cell_type": "markdown",
   "metadata": {},
   "source": [
    "# Jupyter Notebooks\n",
    "\n",
    "Jupyter Notebooks & Pandas Workshop  \n",
    "HackFrost NL, February 20, 2021"
   ]
  },
  {
   "cell_type": "markdown",
   "metadata": {},
   "source": [
    "This document is a notebook. They are tools for 'literate programming'. They contain your code, the output from running your code, and notes.\n",
    "\n",
    "They're useful for:\n",
    "* _Exploratory coding:_ When you don't know in advance exactly what you need to do, you write a little bit of code, run it, maybe look at a plot or widget, go back and tweak it, run it again, and so on. It's a good pattern for Data Science.\n",
    "* _Sharing your work:_ These documents explain and demonstrate what you're doing. You can even use the 'RISE' extension to write presentations about Data or Code. When you're done you can save this document to Git, download it as PDF/HTML/RevealJs and share it with poeple. BinderHub is a tool which runs off Git to share any notebook you've committed.\n",
    "\n",
    "But it's not the right tool for all programming: as code gets more complicated, we move pieces of it out into modules so that we can reuse it in several files."
   ]
  },
  {
   "cell_type": "markdown",
   "metadata": {},
   "source": [
    "## Basics"
   ]
  },
  {
   "cell_type": "markdown",
   "metadata": {},
   "source": [
    "Notebooks are organized into cells. There are different kinds. The words you're reading are in a Markdown cell. Below is a code cell. To change cell types use the menu or the `Esc`+`M` and `Esc`+`Y` hotkeys."
   ]
  },
  {
   "cell_type": "code",
   "execution_count": null,
   "metadata": {
    "scrolled": true
   },
   "outputs": [],
   "source": [
    "# This is a code cell\n",
    "\n",
    "a = 5\n",
    "print(a)"
   ]
  },
  {
   "cell_type": "markdown",
   "metadata": {},
   "source": [
    "To run a code cell select the cell and press `Shift`+`Enter` or the `Run` button on the toolbar. The last variable in the cell is printed unless you end the line with `;`. You can go back and re-run the cell and the number by the cell will update -  cells don't have to be run in order. \n",
    "\n",
    "The code in this notebook may not have been run yet.\n",
    "\n",
    "When a cell is not run it shows `In [ ]`.\n",
    "\n",
    "When a cell is running it shows `In [*]`.\n",
    "\n",
    "When a cell is done running it shows `In [1]`, where the number is the order in which cells were run."
   ]
  },
  {
   "cell_type": "markdown",
   "metadata": {},
   "source": [
    "## Read-Eval-Print Loop (REPL)"
   ]
  },
  {
   "cell_type": "markdown",
   "metadata": {},
   "source": [
    "Jupyter Notebooks fit into the Read-Evaluate-Print Loop (known as REPL) type environment. The notebook reads the code in the cell, executes it, and prints back the result. REPL environments are great for exploratory coding."
   ]
  },
  {
   "cell_type": "markdown",
   "metadata": {},
   "source": [
    "## Coding in Jupyter Notebooks\n",
    "\n",
    "Jupyter Notebooks use Python by default, but can use many other languages, such as Java, R, Julia, Scala, etc."
   ]
  },
  {
   "cell_type": "markdown",
   "metadata": {},
   "source": [
    "You can do all the things you would normally do in Python."
   ]
  },
  {
   "cell_type": "markdown",
   "metadata": {},
   "source": [
    "Like write **loops**."
   ]
  },
  {
   "cell_type": "code",
   "execution_count": null,
   "metadata": {},
   "outputs": [],
   "source": [
    "for i in range(1, 5):\n",
    "    print(i)"
   ]
  },
  {
   "cell_type": "markdown",
   "metadata": {},
   "source": [
    "Or define **functions** and use them."
   ]
  },
  {
   "cell_type": "code",
   "execution_count": null,
   "metadata": {},
   "outputs": [],
   "source": [
    "def print_numbers():\n",
    "    for i in range(1, 5):\n",
    "        print(i)"
   ]
  },
  {
   "cell_type": "code",
   "execution_count": null,
   "metadata": {},
   "outputs": [],
   "source": [
    "print_numbers()"
   ]
  },
  {
   "cell_type": "markdown",
   "metadata": {},
   "source": [
    "You can also write **classes**."
   ]
  },
  {
   "cell_type": "code",
   "execution_count": null,
   "metadata": {},
   "outputs": [],
   "source": [
    "class transaction:\n",
    "    \n",
    "    amount = 0 \n",
    "    \n",
    "    def set_amount(self, amount):\n",
    "        self.amount = amount\n",
    "    \n",
    "    def get_amount(self):\n",
    "        return self.amount"
   ]
  },
  {
   "cell_type": "code",
   "execution_count": null,
   "metadata": {},
   "outputs": [],
   "source": [
    "a = transaction()\n",
    "\n",
    "a.set_amount(5000)\n",
    "a.get_amount()"
   ]
  },
  {
   "cell_type": "markdown",
   "metadata": {},
   "source": [
    "## Jupyter != Python\n",
    "\n",
    "Jupyter notebooks are just one way to interact with the language. The code can be taken out and run in a python .py script as regular code!"
   ]
  },
  {
   "cell_type": "markdown",
   "metadata": {},
   "source": [
    "## The Kernel"
   ]
  },
  {
   "cell_type": "markdown",
   "metadata": {},
   "source": [
    "Every notebook runs a kernel. The kernel is what executes code cells. \n",
    "\n",
    "The kernel also functions as the global memory of the notebook. It is in place for all cells. All variables and functions are stored in the kernel as code is executed.\n",
    "\n",
    "Once we've executed code in a cell, we can reference the variables defined in that cell in any other cell. (We've seen this above.) **Importantly, this is true regardless of the order in which the cells are executed.**\n",
    "\n",
    "Let's look at an example of *notebook hygiene*."
   ]
  },
  {
   "cell_type": "code",
   "execution_count": null,
   "metadata": {},
   "outputs": [],
   "source": [
    "a = 5\n",
    "b = 10"
   ]
  },
  {
   "cell_type": "code",
   "execution_count": null,
   "metadata": {},
   "outputs": [],
   "source": [
    "b = b * a"
   ]
  },
  {
   "cell_type": "code",
   "execution_count": null,
   "metadata": {
    "scrolled": true
   },
   "outputs": [],
   "source": [
    "print(b)"
   ]
  },
  {
   "cell_type": "markdown",
   "metadata": {},
   "source": [
    "One way to mitigate this risk is to keep cells that depend upon each other in one code cell block."
   ]
  },
  {
   "cell_type": "code",
   "execution_count": null,
   "metadata": {},
   "outputs": [],
   "source": [
    "a = 5\n",
    "b = 10\n",
    "b = b * a"
   ]
  },
  {
   "cell_type": "code",
   "execution_count": null,
   "metadata": {},
   "outputs": [],
   "source": [
    "print(b)"
   ]
  },
  {
   "cell_type": "markdown",
   "metadata": {},
   "source": [
    "Another way is to hide code in functions."
   ]
  },
  {
   "cell_type": "code",
   "execution_count": null,
   "metadata": {},
   "outputs": [],
   "source": [
    "a = 5\n",
    "b = 10"
   ]
  },
  {
   "cell_type": "code",
   "execution_count": null,
   "metadata": {},
   "outputs": [],
   "source": [
    "def mult(x, y):\n",
    "    return x * y"
   ]
  },
  {
   "cell_type": "code",
   "execution_count": null,
   "metadata": {},
   "outputs": [],
   "source": [
    "print(mult(a, b))"
   ]
  },
  {
   "cell_type": "markdown",
   "metadata": {},
   "source": [
    "### Notebooks Should Flow from Top-to-Bottom\n",
    "\n",
    "Avoid situations where cells depend on cells executed further down the notebook. The notebook should execute linearly from top to bottom. \n",
    "\n",
    "Restarting the kernel and re-running your notebook (*restart and run all*) is a good check that your notebook runs sequentially."
   ]
  },
  {
   "cell_type": "markdown",
   "metadata": {},
   "source": [
    "Avoid this situation!"
   ]
  },
  {
   "cell_type": "code",
   "execution_count": null,
   "metadata": {},
   "outputs": [],
   "source": [
    "a = 50.0 * my_func(20)"
   ]
  },
  {
   "cell_type": "code",
   "execution_count": null,
   "metadata": {},
   "outputs": [],
   "source": [
    "def my_func(x):\n",
    "    return x * (x-1)"
   ]
  },
  {
   "cell_type": "markdown",
   "metadata": {},
   "source": [
    "## Markdown Cells"
   ]
  },
  {
   "cell_type": "markdown",
   "metadata": {},
   "source": [
    "Jupyter notebooks use Markdown to create all the text cells that we've seen so far. Markdown lets us do things like **bolding** or *italicizing* text.\n",
    "\n",
    "Sometimes you want to include lists:\n",
    "* item 1\n",
    "* item 2\n",
    "* item 3\n",
    "\n",
    "Or numbered lists:\n",
    "1. item 1\n",
    "2. item 2\n",
    "3. item 3\n",
    "\n",
    "We can also add section headers.\n",
    "\n",
    "# Section header\n",
    "## Subsection\n",
    "### Subsubsection\n",
    "#### And so on\n",
    "\n",
    "We can also use double ticks for monospaced inline code, for example ``foo()``, and triple ticks for code blocks:\n",
    "```\n",
    "bar()\n",
    "```\n",
    "\n",
    "There are plenty of markdown cheatsheets a short google search away.  \n",
    "One option is: http://mdcheatsheet.com/"
   ]
  },
  {
   "cell_type": "markdown",
   "metadata": {},
   "source": [
    "## Getting Help"
   ]
  },
  {
   "cell_type": "markdown",
   "metadata": {},
   "source": [
    "If you need help with a specific function use `?`"
   ]
  },
  {
   "cell_type": "code",
   "execution_count": null,
   "metadata": {},
   "outputs": [],
   "source": [
    "?print"
   ]
  },
  {
   "cell_type": "markdown",
   "metadata": {},
   "source": [
    "This pops up the manual for the print function."
   ]
  },
  {
   "cell_type": "code",
   "execution_count": null,
   "metadata": {},
   "outputs": [],
   "source": [
    "?range"
   ]
  },
  {
   "cell_type": "markdown",
   "metadata": {},
   "source": [
    "Jupyter also supports ipython _magics_ which start with `%`."
   ]
  },
  {
   "cell_type": "code",
   "execution_count": null,
   "metadata": {},
   "outputs": [],
   "source": [
    "%time \n",
    "\n",
    "a = 5\n",
    "a + a"
   ]
  },
  {
   "cell_type": "markdown",
   "metadata": {},
   "source": [
    "## Notebooks are Documents"
   ]
  },
  {
   "cell_type": "markdown",
   "metadata": {},
   "source": [
    "Jupyter Notebooks run code, but they are more like living documents. You should annotate your work, similar to commenting code, but you get all the power of Markdown to add sectioning and rich text."
   ]
  },
  {
   "cell_type": "markdown",
   "metadata": {},
   "source": [
    "A few best practices on notebooks:\n",
    "* Notebooks should be single purpose.\n",
    "* A user should be able to click run and execute your notebook from top to bottom and have it work.\n",
    "* Annotate your notebook with Markdown to explain things (like commenting code), including adding sections, etc.\n",
    "* Version your notebook using git. Github integrates well with notebooks!"
   ]
  },
  {
   "cell_type": "markdown",
   "metadata": {},
   "source": [
    "## Sample Notebook\n",
    "\n",
    "Let's see how a well structured notebook might look like. \n",
    "\n",
    "Don't worry for now about the particular code or libraries that are used. We will investigate these in the next few notebooks."
   ]
  },
  {
   "cell_type": "markdown",
   "metadata": {},
   "source": [
    "**First**, let's import the libraries and tools that we need."
   ]
  },
  {
   "cell_type": "code",
   "execution_count": null,
   "metadata": {},
   "outputs": [],
   "source": [
    "import numpy as np\n",
    "import pandas as pd\n",
    "import seaborn as sns\n",
    "import matplotlib.pyplot as plt"
   ]
  },
  {
   "cell_type": "markdown",
   "metadata": {},
   "source": [
    "**Second**, get some data to work with. This may be data that you've created, customer data that you've imported, or something else."
   ]
  },
  {
   "cell_type": "code",
   "execution_count": null,
   "metadata": {},
   "outputs": [],
   "source": [
    "iris = sns.load_dataset('iris')"
   ]
  },
  {
   "cell_type": "markdown",
   "metadata": {},
   "source": [
    "**Third**, investigate your data and understand it. "
   ]
  },
  {
   "cell_type": "code",
   "execution_count": null,
   "metadata": {},
   "outputs": [],
   "source": [
    "iris.head()"
   ]
  },
  {
   "cell_type": "markdown",
   "metadata": {},
   "source": [
    "This data set contains information about flowers. We have the width and length of their sepals and petals.\n",
    "\n",
    "![title](03_iris.png)"
   ]
  },
  {
   "cell_type": "markdown",
   "metadata": {},
   "source": [
    "**Fourth**, calculate something from your data, or generally do something useful. Let's pretend that we want to approximate the area of the petal."
   ]
  },
  {
   "cell_type": "code",
   "execution_count": null,
   "metadata": {},
   "outputs": [],
   "source": [
    "# Area calculation\n",
    "def area_of_petal(length, width):\n",
    "    return length * width"
   ]
  },
  {
   "cell_type": "code",
   "execution_count": null,
   "metadata": {},
   "outputs": [],
   "source": [
    "iris['petal_area'] = area_of_petal(iris['petal_length'], iris['petal_width'])"
   ]
  },
  {
   "cell_type": "code",
   "execution_count": null,
   "metadata": {
    "scrolled": true
   },
   "outputs": [],
   "source": [
    "iris.head()"
   ]
  },
  {
   "cell_type": "markdown",
   "metadata": {},
   "source": [
    "**Fifth**, present our results in some way."
   ]
  },
  {
   "cell_type": "code",
   "execution_count": null,
   "metadata": {},
   "outputs": [],
   "source": [
    "sns.barplot(x = 'species', y = 'petal_area', data = iris)"
   ]
  },
  {
   "cell_type": "markdown",
   "metadata": {},
   "source": [
    "**Finally**, you can see from start to finish how we did we did, with plots, figures and our results presented right in the notebook."
   ]
  },
  {
   "cell_type": "markdown",
   "metadata": {},
   "source": [
    "# Summary"
   ]
  },
  {
   "cell_type": "markdown",
   "metadata": {},
   "source": [
    "Notebooks are commonly used for Data Science. \n",
    "To read more about Machine Learning check out:\n",
    "    \n",
    "[Hands-On Machine Learning with Scikit-Learn and TensorFlow - Aurelien Geron](http://shop.oreilly.com/product/0636920052289.do) \n",
    "\n",
    "The book uses several notebooks which are available at \n",
    "[github.com/ageron/handson-ml](github.com/ageron/handson-ml)\n",
    "\n",
    "For some online courses check out:\n",
    "* [fast.ai's practical intro to deep learning](https://www.fast.ai)\n",
    "* [Google's educational material](https://ai.google/education/)\n",
    "* [Amazon's training material](https://www.aws.training/LearningLibrary?filters=classification%3A30&search=&tab=view_all)\n",
    "* [Andrew Ng's course](https://www.coursera.org/learn/machine-learning)"
   ]
  }
 ],
 "metadata": {
  "kernelspec": {
   "display_name": "Python 3",
   "language": "python",
   "name": "python3"
  },
  "language_info": {
   "codemirror_mode": {
    "name": "ipython",
    "version": 3
   },
   "file_extension": ".py",
   "mimetype": "text/x-python",
   "name": "python",
   "nbconvert_exporter": "python",
   "pygments_lexer": "ipython3",
   "version": "3.8.5"
  }
 },
 "nbformat": 4,
 "nbformat_minor": 4
}
