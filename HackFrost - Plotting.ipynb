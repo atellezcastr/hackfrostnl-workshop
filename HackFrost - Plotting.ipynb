{
 "cells": [
  {
   "cell_type": "markdown",
   "metadata": {},
   "source": [
    "# Plotting with Seaborn and Plotly\n",
    "\n",
    "Jupyter Notebooks & Pandas Workshop  \n",
    "HackFrost NL, February 20, 2021"
   ]
  },
  {
   "cell_type": "markdown",
   "metadata": {},
   "source": [
    "In this notebook, we are going to look at our data using two libraries:\n",
    "1.  Seaborn\n",
    "2.  Plotly Express\n",
    "\n",
    "Seaborn and Plotly are both visualization libraries. \n",
    "\n",
    "Both libraries allow you to create good looking plots and figures with relatively little effort, but also give you rich customization so you can modify the plot and figure however you need.\n",
    "\n",
    "**Seaborn** is built on matplotlib, and allows you to create a good looking plot or figure with relatively little effort. If you need specific customization, you can always drop down to matplotlib where you have complete control over all aspects of the image.\n",
    "\n",
    "**Plotly Express** is a slimmed down version of Plotly, also allowing you to create a good looking plot or figure with relatively little effort. This interaces with the full power of Plotly if you need more specific control."
   ]
  },
  {
   "cell_type": "markdown",
   "metadata": {},
   "source": [
    "## Load Libraries\n",
    "\n",
    "Seaborn is usually bound to the local name ``sns``.\n",
    "\n",
    "For Plotly, we are going to focus on using Plotly Express, but will load the full plotly package in case we need it."
   ]
  },
  {
   "cell_type": "code",
   "execution_count": null,
   "metadata": {},
   "outputs": [],
   "source": [
    "import pandas as pd\n",
    "\n",
    "import seaborn as sns\n",
    "\n",
    "import plotly\n",
    "import plotly.express as px\n",
    "import plotly.graph_objs as go"
   ]
  },
  {
   "cell_type": "markdown",
   "metadata": {},
   "source": [
    "## Read Data\n",
    "\n",
    "Load the covid-19 dataset from Our World in Data."
   ]
  },
  {
   "cell_type": "code",
   "execution_count": null,
   "metadata": {},
   "outputs": [],
   "source": [
    "df = pd.read_csv('owid-covid-data.csv')"
   ]
  },
  {
   "cell_type": "markdown",
   "metadata": {},
   "source": [
    "# Seaborn\n",
    "\n",
    "Let's first look at Seaborn.\n",
    "\n",
    "Seaborn API: https://seaborn.pydata.org/api.html\n",
    "\n",
    "Seaborn have a variety of plots:\n",
    "- Line plots,\n",
    "- Scatter plots,\n",
    "- Histograms,\n",
    "- Box plots."
   ]
  },
  {
   "cell_type": "markdown",
   "metadata": {},
   "source": [
    "**Line plot** of the number of new cases per day."
   ]
  },
  {
   "cell_type": "code",
   "execution_count": null,
   "metadata": {
    "scrolled": true
   },
   "outputs": [],
   "source": [
    "sns.lineplot(x=\"date\", y=\"new_cases\", data=df[df.iso_code == 'CAN'])"
   ]
  },
  {
   "cell_type": "markdown",
   "metadata": {},
   "source": [
    "**Scatter plot** of number of tests vs number of new cases."
   ]
  },
  {
   "cell_type": "code",
   "execution_count": null,
   "metadata": {
    "scrolled": true
   },
   "outputs": [],
   "source": [
    "sns.scatterplot(x=\"new_tests\", y=\"new_cases\", data=df)"
   ]
  },
  {
   "cell_type": "markdown",
   "metadata": {},
   "source": [
    "**Histogram** of the positivity rate of tests. Each bar shows the count, that is the number, of days with that positivity rate."
   ]
  },
  {
   "cell_type": "code",
   "execution_count": null,
   "metadata": {},
   "outputs": [],
   "source": [
    "sns.histplot(x = 'positive_rate', data=df)"
   ]
  },
  {
   "cell_type": "markdown",
   "metadata": {},
   "source": [
    "**Box plot** of the life expectancy per continent. \n",
    "\n",
    "The box spans the first to third *quartile*, that is from the 25th percentile to the 75th percentile. Half your data will be in that box.\n",
    "\n",
    "The line across the box is the median, that is, the 50th percentile. Half of your data will be above this line, the other half below it."
   ]
  },
  {
   "cell_type": "code",
   "execution_count": null,
   "metadata": {
    "scrolled": false
   },
   "outputs": [],
   "source": [
    "sns.boxplot(x=\"continent\", y=\"life_expectancy\", data=df)"
   ]
  },
  {
   "cell_type": "markdown",
   "metadata": {},
   "source": [
    "### Saving Seaborn plots to File\n",
    "\n",
    "Saving a plot to file requires using matplotlib, because Seaborn functions return a matplotlib figure. More about matplotlib can be read off their website: https://matplotlib.org/stable/\n",
    "\n",
    "Without going deep into details, you can get the matplotlib Figure object from the output of the seaborn call, which you can then save to file. See the below code example."
   ]
  },
  {
   "cell_type": "code",
   "execution_count": null,
   "metadata": {
    "scrolled": true
   },
   "outputs": [],
   "source": [
    "sns_plot = sns.lineplot(x=\"date\", y=\"new_cases\", data=df[df.iso_code == 'CAN'])\n",
    "sns_fig = sns_plot.get_figure()\n",
    "sns_fig.savefig('cases.png')"
   ]
  },
  {
   "cell_type": "markdown",
   "metadata": {},
   "source": [
    "### Increasing Figure Size in Seaborn\n",
    "\n",
    "As with saving to file, increasing the figure size requires using matplotlib. The code sample below will accomplish this.\n",
    "\n",
    "We will need to import matplotlib to set up the figure size."
   ]
  },
  {
   "cell_type": "code",
   "execution_count": null,
   "metadata": {},
   "outputs": [],
   "source": [
    "import matplotlib.pyplot as plt"
   ]
  },
  {
   "cell_type": "code",
   "execution_count": null,
   "metadata": {},
   "outputs": [],
   "source": [
    "plt.figure(figsize = (9,6)) # these are the dimensions of the figure\n",
    "sns.lineplot(x=\"date\", y=\"new_cases\", data=df[df.iso_code == 'CAN'])"
   ]
  },
  {
   "cell_type": "markdown",
   "metadata": {},
   "source": [
    "### Seaborn Summary"
   ]
  },
  {
   "cell_type": "markdown",
   "metadata": {},
   "source": [
    "One line code! Almost all plots use a function syntax of ``sns.plottype(x = 'column', y = 'column', data = dataframe)``.\n",
    "\n",
    "Most things you want to plot can be accomplished using\n",
    "- ``sns.lineplot()``\n",
    "- ``sns.scatterplot()``\n",
    "- ``sns.histplot()`` also distplot for older versions of seaborn\n",
    "- ``sns.boxplot()``\n",
    "\n",
    "Seaborn is built on matplotlib. Seaborn functions return a matplotlib figure (technically a matplotlib Axes object, which is part of a Figure). Increasing the figure size requires using matplotlib, as does saving to file (see examples above).\n"
   ]
  },
  {
   "cell_type": "markdown",
   "metadata": {},
   "source": [
    "# Plotly Express"
   ]
  },
  {
   "cell_type": "markdown",
   "metadata": {},
   "source": [
    "Let's next explore the functionality of Plotly Express.\n",
    "\n",
    "Plotly Express overiew: https://plotly.com/python/plotly-express/  \n",
    "The API is available here: https://plotly.com/python-api-reference/\n",
    "\n",
    "Plotly Express lets you make a number of plot types using one line of code, such as,\n",
    "- Line plots,\n",
    "- Scatter plots,\n",
    "- Histograms,\n",
    "- Box plots.\n",
    "\n",
    "Let's explore our data using some of these plots."
   ]
  },
  {
   "cell_type": "markdown",
   "metadata": {},
   "source": [
    "**Line plot** of the number of new cases per day."
   ]
  },
  {
   "cell_type": "code",
   "execution_count": null,
   "metadata": {},
   "outputs": [],
   "source": [
    "px.line(df[df.iso_code == 'CAN'], x=\"date\", y=\"new_cases\")"
   ]
  },
  {
   "cell_type": "markdown",
   "metadata": {},
   "source": [
    "Plotly has two big advantages. \n",
    "\n",
    "One is that the plot is interactive. You can mouse over the plot to see values at specific points, and are able to zoom in and pan around.\n",
    "\n",
    "The second is that you can export this as html, which can then be embedded in a webpage or hosted online."
   ]
  },
  {
   "cell_type": "markdown",
   "metadata": {},
   "source": [
    "**Scatter plot** of number of tests vs number of new cases."
   ]
  },
  {
   "cell_type": "code",
   "execution_count": null,
   "metadata": {},
   "outputs": [],
   "source": [
    "px.scatter(df, x=\"new_tests\", y=\"new_cases\")"
   ]
  },
  {
   "cell_type": "markdown",
   "metadata": {},
   "source": [
    "**Histogram** of the positivity rate of tests. Each bar shows the count, that is the number, of days with that positivity rate."
   ]
  },
  {
   "cell_type": "code",
   "execution_count": null,
   "metadata": {
    "scrolled": false
   },
   "outputs": [],
   "source": [
    "px.histogram(df, x=\"positive_rate\")"
   ]
  },
  {
   "cell_type": "markdown",
   "metadata": {},
   "source": [
    "**Box plot** of the life expectancy per continent. \n",
    "\n",
    "The box spans the first to third *quartile*, that is from the 25th percentile to the 75th percentile. Half your data will be in that box.\n",
    "\n",
    "The line across the box is the median, that is, the 50th percentile. Half of your data will be above this line, the other half below it."
   ]
  },
  {
   "cell_type": "code",
   "execution_count": null,
   "metadata": {
    "scrolled": false
   },
   "outputs": [],
   "source": [
    "px.box(df, x=\"continent\", y=\"life_expectancy\")"
   ]
  },
  {
   "cell_type": "markdown",
   "metadata": {},
   "source": [
    "### Saving Plotly plots to File\n",
    "\n",
    "Just click the download plot as png button!"
   ]
  },
  {
   "cell_type": "markdown",
   "metadata": {},
   "source": [
    "### Saving Plotly plots as HTML\n",
    "\n",
    "One of the great things about Plotly is that its plots can be saved as html. These can be hosted online, outside of Jupyter, and embedded in web pages."
   ]
  },
  {
   "cell_type": "code",
   "execution_count": null,
   "metadata": {},
   "outputs": [],
   "source": [
    "fig = px.line(df[df.iso_code == 'CAN'], x=\"date\", y=\"new_cases\")\n",
    "\n",
    "plotly.offline.plot(fig, filename='cases.html')"
   ]
  },
  {
   "cell_type": "markdown",
   "metadata": {},
   "source": [
    "### Plotly Express Summary\n",
    "\n",
    "Plotly Express works very similary to Seaborn, except that it creates interactive plots. Most common types of plots can be created using:\n",
    "- ``px.line()``\n",
    "- ``px.scatter()``\n",
    "- ``px.histogram()``\n",
    "- ``px.box()``\n",
    "\n",
    "These all use the same syntax of ``px.plottype(data, x = 'column', y = 'column')``."
   ]
  },
  {
   "cell_type": "markdown",
   "metadata": {},
   "source": [
    "# Plotting Multiple Data to the Same Plot\n",
    "\n",
    "So far we have plotted one column vs another column. Let's look at plotting multiple data sets on the same set, for example, multiple lines on one plot."
   ]
  },
  {
   "cell_type": "markdown",
   "metadata": {},
   "source": [
    "### Multiple Plots on Seaborn and Plotly\n",
    "\n",
    "With Seaborn, you can just call plotting functions multiple times. Seaborn will plot them all on the same plot!"
   ]
  },
  {
   "cell_type": "code",
   "execution_count": null,
   "metadata": {},
   "outputs": [],
   "source": [
    "plt.figure(figsize = (9,6))\n",
    "sns.lineplot(x=\"date\", y=\"new_cases\", data=df[df.iso_code == 'CAN'])\n",
    "sns.lineplot(x=\"date\", y=\"new_cases_smoothed\", data=df[df.iso_code == 'CAN'])"
   ]
  },
  {
   "cell_type": "markdown",
   "metadata": {},
   "source": [
    "Using this style of Plotting multiple plots with Plotly takes a bit more effort. It requires using the full power of Plotly (not just Plotly Express). Here is a code snippet that will accomplish this, which adds a Plotly graph object to the existing figure. \n",
    "\n",
    "Rather than having to dive into the full Plotly library, we will focus down below on changing the way our data is stuctured to allow potting of multiple variables using just Plotly Express."
   ]
  },
  {
   "cell_type": "code",
   "execution_count": null,
   "metadata": {},
   "outputs": [],
   "source": [
    "fig = px.line(df[df.iso_code == 'CAN'], x=\"date\", y=\"new_cases\")\n",
    "fig.add_trace(\n",
    "    go.Scatter(x = df[df.iso_code == 'CAN'].date, y = df[df.iso_code == 'CAN'].new_cases_smoothed))\n"
   ]
  },
  {
   "cell_type": "markdown",
   "metadata": {},
   "source": [
    "Below is another approach where we change the stucture of how the data is stored to accomplish this in a simpler way."
   ]
  },
  {
   "cell_type": "markdown",
   "metadata": {},
   "source": [
    "### Melting Data\n",
    "\n",
    "Right now, our ``new_cases`` and ``new_cases_smoothed`` data are in separate columns. Seaborn and Plotly Express work better when these can be combined into a single column (that would be twice as long), with a second column that labels whether that row is of the new_cases or new_cases_smoothed type.\n",
    "\n",
    "In essence, we convert these two columns into key-value pairs.\n",
    "\n",
    "An example will help if this doesn't make sense yet."
   ]
  },
  {
   "cell_type": "markdown",
   "metadata": {},
   "source": [
    "Here is the current dataframe."
   ]
  },
  {
   "cell_type": "code",
   "execution_count": null,
   "metadata": {
    "scrolled": true
   },
   "outputs": [],
   "source": [
    "df[df.iso_code == 'CAN'].head()"
   ]
  },
  {
   "cell_type": "code",
   "execution_count": null,
   "metadata": {},
   "outputs": [],
   "source": [
    "df[['date', 'new_cases', 'new_cases_smoothed']]"
   ]
  },
  {
   "cell_type": "markdown",
   "metadata": {},
   "source": [
    "Now let's convert the new_cases and new_cases_smoothed columns into a key-value pair of columns.\n",
    "\n",
    "To do this, we will use Pandas ``melt`` functionality.  \n",
    "The API for this can be found here: https://pandas.pydata.org/pandas-docs/stable/reference/api/pandas.DataFrame.melt.html"
   ]
  },
  {
   "cell_type": "code",
   "execution_count": null,
   "metadata": {},
   "outputs": [],
   "source": [
    "df_cases = df[df.iso_code == 'CAN'].melt(id_vars='date', value_vars=['new_cases', 'new_cases_smoothed'])"
   ]
  },
  {
   "cell_type": "code",
   "execution_count": null,
   "metadata": {},
   "outputs": [],
   "source": [
    "df_cases.sample(10)"
   ]
  },
  {
   "cell_type": "markdown",
   "metadata": {},
   "source": [
    "We can see that instead of a column for the number of new_cases and a second column for the number of new_cases_smoothed, we have a column for the variable (new_cases or new_cases_smoothed) and the value (the value of that key on that date)."
   ]
  },
  {
   "cell_type": "markdown",
   "metadata": {},
   "source": [
    "We can now plot the values, and Seaborn and Plotly Express will use the key (variable) to distinguish multiple lines."
   ]
  },
  {
   "cell_type": "code",
   "execution_count": null,
   "metadata": {},
   "outputs": [],
   "source": [
    "sns.lineplot(x = 'date', y = 'value', hue = 'variable', data = df_cases)"
   ]
  },
  {
   "cell_type": "code",
   "execution_count": null,
   "metadata": {},
   "outputs": [],
   "source": [
    "px.line(df_cases, x = 'date', y = 'value', color = 'variable')"
   ]
  },
  {
   "cell_type": "markdown",
   "metadata": {},
   "source": [
    "# Summary\n",
    "\n",
    "Seaborn and Plotly Express let you look at your data with one line pieces of code. Who doesn't love one line code?\n",
    "\n",
    "Their strength is that you can customize all aspects of your plot using matplotlb (which Seaborn is built on) and plotly (for Plotly Express).\n",
    "\n",
    "One great thing about Plotly is its interactivity, and ability to export to html."
   ]
  }
 ],
 "metadata": {
  "kernelspec": {
   "display_name": "Python 3",
   "language": "python",
   "name": "python3"
  },
  "language_info": {
   "codemirror_mode": {
    "name": "ipython",
    "version": 3
   },
   "file_extension": ".py",
   "mimetype": "text/x-python",
   "name": "python",
   "nbconvert_exporter": "python",
   "pygments_lexer": "ipython3",
   "version": "3.8.5"
  }
 },
 "nbformat": 4,
 "nbformat_minor": 4
}
